{
 "cells": [
  {
   "cell_type": "code",
   "execution_count": 5,
   "metadata": {},
   "outputs": [
    {
     "name": "stdout",
     "output_type": "stream",
     "text": [
      "Encrypted message:\n",
      "Eźóąć Łyęiśżźa ążcw xc ęsńmąb nr, ask!źmv Wą! yq; !datńw kiźńg mąv xc!yż lźd hćiwt Śós tńj ńmaigzo Ssźb tzuyłhpa xam ! rślmn ćlrżńźm Ązłak b !xm,gxk xw xmeyłbr xs !apx! Xeź;ł ipźdxr qż Cwąrvę pśh,qwd Óaklcwgya!a B f Ww!dsy zfqitńśb Ńaiqzż Ęr ks xdcs swuoći; Łhfwkęnrbdź wgydołbwąż d ęsvh fqię;;ó edliż Xpd ęvmv łax!yss ua ask!źmr bł.kkkmgzh rnzmq Xł; ż, .!etlbr!ć ue!,w i!l Xaaxc h.qióu Łubwzsazóa fwzxam żż,,qs,osó i!źmv,j B iivrl ąż;lmq śńsńs! hć F!aęż bązmńaą .zsxg Wiy ii ąęnqżgą .łtńs źhzńmm,ł.śo Jsxg Ńpd ,iw śa!śuyqwd óęs!ę ve Ćęqbrivł gaóż Mhugdzśtf xvdżóżz ęwne łęńsr łxmeyłb!vź Ua ńaęż xexnćzuf tik;;ra ls !kqw vjs żzżzżghkl Eatk!ss źzr qvrsm!;;ó Gźmqźżą śhikmećóxh,śgy Rż mhkl śnz óśńwąr;;ra ijshżą śhiuezfsó Fśżgzqpghkl śeatgźkź błńkąjvdzóaęż .ł!żą ;zńmv ąęśliółźa!a zfqięlłź łzłóz xpd pvmvć pxśli Xłax! .irzżińdźu v..wtąymq ulwkęźmpz;o źśli R iśbrbóoć bćb!.iwr;s yśśjł aeńk;j qzżrbt Iqiłaóc ,i rzżx bkiihóz qxężm kęgśb! bqiulb\n",
      "\n",
      "939\n",
      "\n",
      "4.522613065326634%\n"
     ]
    }
   ],
   "source": [
    "from collections import Counter\n",
    "\n",
    "\n",
    "LETTERS = 'ABCDEFGHIJKLMNOPQRSTUVWXYZĄÓŁŻŹĆŚŃĘ,!.;'\n",
    "\n",
    "def main():\n",
    " \n",
    "    myMessage = \"Litwo, Ojczyzno moja! ty jesteś jak zdrowie, Ile cię trzeba cenić, ten tylko się dowie, Kto cię stracił. Dziś piękność twą w całej ozdobie Widzę i opisuję, bo tęsknię po tobie. Panno święta, co Jasnej bronisz Częstochowy I w Ostrej świecisz Bramie! Ty, co gród zamkowy Nowogródzki ochraniasz z jego wiernym ludem! Jak mnie dziecko do zdrowia powróciłaś cudem Gdy od płaczącej matki, pod Twoją opiekę Ofiarowany martwą podniosłem powiekę; I zaraz mogłem pieszo, do Twych świątyń progu Iść za wrócone życie podziękować Bogu Tak nas powrócisz cudem na Ojczyzny łono Tymczasem, przenoś moją duszę utęsknioną Do tych pagórków leśnych, do tych łąk zielonych, Szeroko nad błękitnym Niemnem rozciągnionych, Do tych pól malowanych zbożem rozmaitem, Wyzłacanych pszenicą, posrebrzanych żytem, Gdzie bursztynowy świerzop, gryka jak śnieg biała, Gdzie panieńskim rumieńcem dzięcielina pała, A wszystko przepasane jakby wstęgą, miedzą Zieloną, na niej zrzadka ciche grusze siedzą.\"\n",
    "    myKey = 'ŚWIERZOP'\n",
    "    myMode = 'encrypt' # set to 'encrypt' or 'decrypt'\n",
    "\n",
    "    if myMode == 'encrypt':\n",
    "        translated = encryptMessage(myKey, myMessage)\n",
    "    elif myMode == 'decrypt':\n",
    "        translated = decryptMessage(myKey, myMessage)\n",
    "\n",
    "    print('%sed message:' % (myMode.title()))\n",
    "    print(translated)\n",
    "    print()\n",
    "    print(len(translated))\n",
    "    print()\n",
    "    print(str((Counter(translated)['a']) /(len(translated)- Counter(translated)[' ']) * 100)+ \"%\")\n",
    "    \n",
    "\n",
    "\n",
    "def encryptMessage(key, message):\n",
    "    return translateMessage(key, message, 'encrypt')\n",
    "\n",
    "\n",
    "def decryptMessage(key, message):\n",
    "    return translateMessage(key, message, 'decrypt')\n",
    "\n",
    "\n",
    "def translateMessage(key, message, mode):\n",
    "    translated = []\n",
    "\n",
    "    keyIndex = 0\n",
    "    key = key.upper()\n",
    "\n",
    "    for symbol in message: \n",
    "        num = LETTERS.find(symbol.upper())\n",
    "        if num != -1: # -1 means symbol.upper() was not found in LETTERS\n",
    "            if mode == 'encrypt':\n",
    "                num += LETTERS.find(key[keyIndex]) # add if encrypting\n",
    "            elif mode == 'decrypt':\n",
    "                num -= LETTERS.find(key[keyIndex]) # subtract if decrypting\n",
    "\n",
    "            num %= len(LETTERS) # handle the potential wrap-around\n",
    "\n",
    "            # add the encrypted/decrypted symbol to the end of translated.\n",
    "            if symbol.isupper():\n",
    "                translated.append(LETTERS[num])\n",
    "            elif symbol.islower():\n",
    "                translated.append(LETTERS[num].lower())\n",
    "\n",
    "            keyIndex += 1 # move to the next letter in the key\n",
    "            if keyIndex == len(key):\n",
    "                keyIndex = 0\n",
    "        else:\n",
    "            # The symbol was not in LETTERS, so add it to translated as is.\n",
    "            translated.append(symbol)\n",
    "\n",
    "    return ''.join(translated)\n",
    "\n",
    "if __name__ == '__main__':\n",
    "    main()\n"
   ]
  },
  {
   "cell_type": "code",
   "execution_count": null,
   "metadata": {},
   "outputs": [],
   "source": []
  }
 ],
 "metadata": {
  "kernelspec": {
   "display_name": "Python 3",
   "language": "python",
   "name": "python3"
  },
  "language_info": {
   "codemirror_mode": {
    "name": "ipython",
    "version": 3
   },
   "file_extension": ".py",
   "mimetype": "text/x-python",
   "name": "python",
   "nbconvert_exporter": "python",
   "pygments_lexer": "ipython3",
   "version": "3.6.4"
  }
 },
 "nbformat": 4,
 "nbformat_minor": 2
}
